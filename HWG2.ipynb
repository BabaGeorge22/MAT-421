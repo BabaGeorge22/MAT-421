{
  "nbformat": 4,
  "nbformat_minor": 0,
  "metadata": {
    "colab": {
      "provenance": [],
      "authorship_tag": "ABX9TyNkBWZfI20sh7YpggK+h/eV",
      "include_colab_link": true
    },
    "kernelspec": {
      "name": "python3",
      "display_name": "Python 3"
    },
    "language_info": {
      "name": "python"
    }
  },
  "cells": [
    {
      "cell_type": "markdown",
      "metadata": {
        "id": "view-in-github",
        "colab_type": "text"
      },
      "source": [
        "<a href=\"https://colab.research.google.com/github/BabaGeorge22/MAT-421/blob/main/HWG2.ipynb\" target=\"_parent\"><img src=\"https://colab.research.google.com/assets/colab-badge.svg\" alt=\"Open In Colab\"/></a>"
      ]
    },
    {
      "cell_type": "markdown",
      "source": [
        "**Module G Homework: 21.4. 21.5 - George Tome**"
      ],
      "metadata": {
        "id": "h7eR0h5E2wnf"
      }
    },
    {
      "cell_type": "markdown",
      "source": [
        "**Section 21.4 - Simpson's Rule**"
      ],
      "metadata": {
        "id": "N3oFr038qOSd"
      }
    },
    {
      "cell_type": "markdown",
      "source": [
        "**Simpson's Rule:** Combines two subintervals [x i-1,x i] and [x i,x i+1] and fits a quadratic polynomial through (x i-1,f(x i-1)), (x i ,f(xi)), (x i+1 ,f(x i+1 )).\n",
        "\n",
        "\n",
        "The approximate integral over these two subintervals is:\n",
        "∫ ^(xi+1)  (xi-1)  f(x)dx≈ 3h[f(xi-1)+4f(xi)+f(xi+1)],\n",
        "\n",
        "where h=xi-xi-1 = xi+1-xi.\n",
        "\n",
        "\n",
        "For the entire interval [a,b], if we have an odd number of points, we sum the Simpson approximations pairwise.\n",
        "\n",
        "**Order of Accuracy:** Normally O(h^4) overall if the function is sufficiently smooth."
      ],
      "metadata": {
        "id": "iHdFuUcL2S8Q"
      }
    },
    {
      "cell_type": "code",
      "source": [
        "import numpy as np\n",
        "\n",
        "a = 0\n",
        "b = np.pi\n",
        "n = 11  # must be an odd number of points for standard Simpson\n",
        "x = np.linspace(a, b, n)\n",
        "f_vals = np.sin(x)\n",
        "\n",
        "h = (b - a)/(n - 1)\n",
        "\n",
        "# Simpson’s Rule\n",
        "I_simpson = (h/3)*(\n",
        "    f_vals[0]\n",
        "    + 4*np.sum(f_vals[1:-1:2])\n",
        "    + 2*np.sum(f_vals[2:-1:2])\n",
        "    + f_vals[-1]\n",
        ")\n",
        "\n",
        "exact_value = 2.0  # integral of sin(x) from 0 to pi is 2\n",
        "error_simpson = exact_value - I_simpson\n",
        "\n",
        "print(\"Simpson’s Rule Approx:\", I_simpson)\n",
        "print(\"Error:\", error_simpson)\n"
      ],
      "metadata": {
        "colab": {
          "base_uri": "https://localhost:8080/"
        },
        "id": "48jBuK8-8Nzr",
        "outputId": "547a5173-dd70-4a63-d850-ac13627a8968"
      },
      "execution_count": 1,
      "outputs": [
        {
          "output_type": "stream",
          "name": "stdout",
          "text": [
            "Simpson’s Rule Approx: 2.0001095173150043\n",
            "Error: -0.00010951731500430384\n"
          ]
        }
      ]
    },
    {
      "cell_type": "markdown",
      "source": [
        "Split [0,π] into 10 subintervals (n=11 points).\n",
        "\n",
        "\n",
        "Summation pattern: first + last + multiples of 4 and 2 as appropriate.\n",
        "\n",
        "\n",
        "Compare to exact integral of 2."
      ],
      "metadata": {
        "id": "R_n8iEqC8efp"
      }
    }
  ]
}