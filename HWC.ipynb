{
  "nbformat": 4,
  "nbformat_minor": 0,
  "metadata": {
    "colab": {
      "provenance": [],
      "authorship_tag": "ABX9TyOeoiIeJ3nkFGxU7fqRZU3f",
      "include_colab_link": true
    },
    "kernelspec": {
      "name": "python3",
      "display_name": "Python 3"
    },
    "language_info": {
      "name": "python"
    }
  },
  "cells": [
    {
      "cell_type": "markdown",
      "metadata": {
        "id": "view-in-github",
        "colab_type": "text"
      },
      "source": [
        "<a href=\"https://colab.research.google.com/github/BabaGeorge22/MAT-421/blob/main/HWC.ipynb\" target=\"_parent\"><img src=\"https://colab.research.google.com/assets/colab-badge.svg\" alt=\"Open In Colab\"/></a>"
      ]
    },
    {
      "cell_type": "markdown",
      "source": [
        "Module C Homework – George Tome"
      ],
      "metadata": {
        "id": "_hklrQw-0J01"
      }
    },
    {
      "cell_type": "markdown",
      "source": [
        "Sections 19.1 - 19.5"
      ],
      "metadata": {
        "id": "gmHJdCAQ0Nr7"
      }
    },
    {
      "cell_type": "markdown",
      "source": [
        "**19.1 Root Finding Problem Statement**"
      ],
      "metadata": {
        "id": "N_cPMMKu0TVV"
      }
    },
    {
      "cell_type": "markdown",
      "source": [
        "A root of a function\n",
        "f(x) is a value X𝑟\n",
        "such that\n",
        "f(X𝑟\n",
        ")\n",
        "=\n",
        "0\n",
        "\n",
        "Sometimes it is hard to solve for X𝑟\n",
        " exactly, so we use numerical methods."
      ],
      "metadata": {
        "id": "GPIWfphq0XaZ"
      }
    },
    {
      "cell_type": "code",
      "source": [
        "import numpy as np\n",
        "from scipy import optimize\n",
        "\n",
        "# Case\n",
        "f = lambda x: np.cos(x) - x\n",
        "\n",
        "# Try finding a root near x = -2\n",
        "root_guess = -2\n",
        "root_found = optimize.fsolve(f, root_guess)\n",
        "print(\"Root found near -2:\", root_found)\n",
        "\n",
        "# Check if f(root_found) is close to 0\n",
        "print(\"f(root_found) =\", f(root_found))\n"
      ],
      "metadata": {
        "colab": {
          "base_uri": "https://localhost:8080/"
        },
        "id": "7l0-9xz61FXI",
        "outputId": "7b792d06-d39a-45a2-e686-54c958d0d289"
      },
      "execution_count": 1,
      "outputs": [
        {
          "output_type": "stream",
          "name": "stdout",
          "text": [
            "Root found near -2: [0.73908513]\n",
            "f(root_found) = [0.]\n"
          ]
        }
      ]
    },
    {
      "cell_type": "markdown",
      "source": [
        "Define f(x) = cos(x) - x.\n",
        "\n",
        "Use optimize.fsolve with an initial guess of -2.\n",
        "\n",
        "Check f(root_found) to see if it is near 0."
      ],
      "metadata": {
        "id": "TQoqesB91TfE"
      }
    },
    {
      "cell_type": "markdown",
      "source": [
        "**19.2 Tolerance**"
      ],
      "metadata": {
        "id": "5Kaj1lPZ1jNs"
      }
    },
    {
      "cell_type": "markdown",
      "source": [
        "Tolerance is the error limit we allow. We say a method has converged when the error is below that tolerance."
      ],
      "metadata": {
        "id": "8OG1c0Bx1pho"
      }
    },
    {
      "cell_type": "code",
      "source": [
        "# If we define f(x) = x^2 + tol/2 and set tol=0.1\n",
        "# Then f(0) = 0.1/2 = 0.05, which might be close enough to zero, even though it's not truly a root.\n",
        "tol = 0.1\n",
        "f_example = lambda x: x**2 + (tol/2)\n",
        "print(\"f_example(0) =\", f_example(0))\n"
      ],
      "metadata": {
        "colab": {
          "base_uri": "https://localhost:8080/"
        },
        "id": "7EE30XWY1vyQ",
        "outputId": "49319808-d04b-44a9-abae-246408057865"
      },
      "execution_count": 4,
      "outputs": [
        {
          "output_type": "stream",
          "name": "stdout",
          "text": [
            "f_example(0) = 0.05\n"
          ]
        }
      ]
    },
    {
      "cell_type": "markdown",
      "source": [
        "Show how a tolerance can let us call a non-root point close enough.\n",
        "\n",
        "Used x^2 + tol/2 as an example."
      ],
      "metadata": {
        "id": "LbOPqbVF2A9Y"
      }
    },
    {
      "cell_type": "markdown",
      "source": [
        "**19.3 Bisection Method**"
      ],
      "metadata": {
        "id": "wtWYSdUW2GAb"
      }
    },
    {
      "cell_type": "markdown",
      "source": [
        "Bisection uses the Intermediate Value Theorem: if f(a) and f(b) have opposite signs, there’s a root between a and b. We split the interval repeatedly until the solution is within our tolerance."
      ],
      "metadata": {
        "id": "nkTGtZVS2KZ1"
      }
    },
    {
      "cell_type": "code",
      "source": [
        "def my_bisection(f, a, b, tol):\n",
        "    \"\"\"\n",
        "    Approximate a root r of f in [a,b] until |f(m)| < tol.\n",
        "    Uses a recursive approach.\n",
        "    \"\"\"\n",
        "    # Check if f(a) and f(b) straddle zero\n",
        "    if np.sign(f(a)) == np.sign(f(b)):\n",
        "        raise Exception(\"a and b do not bound a root\")\n",
        "\n",
        "    # Midpoint\n",
        "    m = (a + b)/2.0\n",
        "\n",
        "    if np.abs(f(m)) < tol:\n",
        "        return m\n",
        "    elif np.sign(f(a)) == np.sign(f(m)):\n",
        "        return my_bisection(f, m, b, tol)\n",
        "    else:\n",
        "        return my_bisection(f, a, m, tol)\n",
        "\n",
        "# Find sqrt(2) as a root of x^2 - 2\n",
        "f_sqrt2 = lambda x: x**2 - 2\n",
        "root_approx = my_bisection(f_sqrt2, 0, 2, 1e-3)\n",
        "print(\"Bisection root approximation:\", root_approx)\n",
        "print(\"Check f at that root:\", f_sqrt2(root_approx))\n"
      ],
      "metadata": {
        "colab": {
          "base_uri": "https://localhost:8080/"
        },
        "id": "L_kl0wHs2Vvw",
        "outputId": "a25eaba0-eb70-4b05-8d07-d3b7ae090abc"
      },
      "execution_count": 5,
      "outputs": [
        {
          "output_type": "stream",
          "name": "stdout",
          "text": [
            "Bisection root approximation: 1.4140625\n",
            "Check f at that root: -0.00042724609375\n"
          ]
        }
      ]
    },
    {
      "cell_type": "markdown",
      "source": [
        "We define my_bisection which checks midpoint m.\n",
        "\n",
        "If f(m) is small enough, we stop. Otherwise we move either a or b.\n",
        "\n",
        "We test it on f(x) = x^2 - 2 to find sqrt(2)"
      ],
      "metadata": {
        "id": "PMpoafhp2cI1"
      }
    },
    {
      "cell_type": "markdown",
      "source": [
        "**19.4 Newton-Raphson Method**"
      ],
      "metadata": {
        "id": "KQUF1n3k2t15"
      }
    },
    {
      "cell_type": "markdown",
      "source": [
        "Newton’s method uses a formula. We keep updating our guess until the function value is small enough."
      ],
      "metadata": {
        "id": "Ujztw3Q82y6j"
      }
    },
    {
      "cell_type": "code",
      "source": [
        "def my_newton(f, df, x0, tol):\n",
        "    \"\"\"\n",
        "    Approximate a root of f, with derivative df,\n",
        "    starting at x0, until |f(x)| < tol.\n",
        "    \"\"\"\n",
        "    if abs(f(x0)) < tol:\n",
        "        return x0\n",
        "    else:\n",
        "        return my_newton(f, df, x0 - f(x0)/df(x0), tol)\n",
        "\n",
        "# f(x)=x^2-2, derivative=2x\n",
        "f = lambda x: x**2 - 2\n",
        "df = lambda x: 2*x\n",
        "\n",
        "# Newton iteration from x0=1.5\n",
        "root_newton = my_newton(f, df, 1.5, 1e-6)\n",
        "print(\"Newton root approximation:\", root_newton)\n",
        "print(\"Check f(root_newton):\", f(root_newton))\n",
        "print(\"True sqrt(2) ~\", np.sqrt(2))\n"
      ],
      "metadata": {
        "colab": {
          "base_uri": "https://localhost:8080/"
        },
        "id": "y8AcfyG62-2-",
        "outputId": "74633d75-4634-40f4-fe95-e6333563204c"
      },
      "execution_count": 6,
      "outputs": [
        {
          "output_type": "stream",
          "name": "stdout",
          "text": [
            "Newton root approximation: 1.4142135623746899\n",
            "Check f(root_newton): 4.510614104447086e-12\n",
            "True sqrt(2) ~ 1.4142135623730951\n"
          ]
        }
      ]
    },
    {
      "cell_type": "markdown",
      "source": [
        "We define a recursive Newton method.\n",
        "\n",
        "We use f(x)=x^2-2 and df(x)=2x.\n",
        "\n",
        "Starting at x0=1.5, we get a root close to sqrt(2)"
      ],
      "metadata": {
        "id": "WOydhR2s3GMH"
      }
    },
    {
      "cell_type": "markdown",
      "source": [
        "**19.5 Root Finding in Python**"
      ],
      "metadata": {
        "id": "90FGYu1s3YgI"
      }
    },
    {
      "cell_type": "markdown",
      "source": [
        "Python’s fsolve from scipy.optimize can find roots for us if we give a good initial guess."
      ],
      "metadata": {
        "id": "u7da4Dsz3irP"
      }
    },
    {
      "cell_type": "code",
      "source": [
        "from scipy.optimize import fsolve\n",
        "\n",
        "# Function has two roots at x=1 and x=100\n",
        "g = lambda x: x**3 - 100*x**2 - x + 100\n",
        "\n",
        "roots = fsolve(g, [2, 80])  # two guesses\n",
        "print(\"Roots found:\", roots)\n"
      ],
      "metadata": {
        "colab": {
          "base_uri": "https://localhost:8080/"
        },
        "id": "o6pXf_Qd3mLP",
        "outputId": "1c17d6a6-99cf-4b60-b785-3a5fe2e7157f"
      },
      "execution_count": 7,
      "outputs": [
        {
          "output_type": "stream",
          "name": "stdout",
          "text": [
            "Roots found: [  1. 100.]\n"
          ]
        }
      ]
    },
    {
      "cell_type": "markdown",
      "source": [
        "Define a polynomial with known roots at 1 and 100.\n",
        "\n",
        "Give two initial guesses to fsolve so it finds both roots."
      ],
      "metadata": {
        "id": "k37PWe_Y3s63"
      }
    }
  ]
}