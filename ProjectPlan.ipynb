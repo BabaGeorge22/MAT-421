{
  "nbformat": 4,
  "nbformat_minor": 0,
  "metadata": {
    "colab": {
      "provenance": [],
      "authorship_tag": "ABX9TyOWqf2cZ+EIulBlaD9fSjiu"
    },
    "kernelspec": {
      "name": "python3",
      "display_name": "Python 3"
    },
    "language_info": {
      "name": "python"
    }
  },
  "cells": [
    {
      "cell_type": "markdown",
      "source": [
        "Project Plan - George Tome"
      ],
      "metadata": {
        "id": "w1S-2sN0nFvB"
      }
    },
    {
      "cell_type": "markdown",
      "source": [
        "**1. Introduction to the Problem**"
      ],
      "metadata": {
        "id": "zQUDcBGBnNBk"
      }
    },
    {
      "cell_type": "markdown",
      "source": [
        "Cardiovascular disease is still one of the leading global causes of death, and is placing significant burdens on healthcare systems. Early diagnosis of cardiovascular disease has the potential to significantly improve patient outcomes and decrease mortality. The aim of this project is to create a predictive model using logistic regression to classify patients into groups with or without cardiovascular disease, using clinical and demographic variables like age, blood pressure, cholesterol, types of pain in the chest, and other relevant measurements of health. The main practical goal is to enable earlier intervention and individually targeted preventive therapy for at-risk patients."
      ],
      "metadata": {
        "id": "OhQnUCP7nUK5"
      }
    },
    {
      "cell_type": "markdown",
      "source": [
        "**2. Related Work**"
      ],
      "metadata": {
        "id": "M3KNa4MQnfcj"
      }
    },
    {
      "cell_type": "markdown",
      "source": [
        "Several studies have used machine learning to predict heart disease. Logistic regression models are favored because of their simplicity and ease of interpretability with medical data. Prior research, has shown that logistic regression can utilize medical data like resting blood pressure, cholesterol level, and exercise induced angina to predict whether or not someone has heart disease. Apart from this, other more complex models like neural networks and random forests have also been explored. While these are more prone to provide greater accuracy, they trade off interpretability.\n"
      ],
      "metadata": {
        "id": "UkWRtCltoWx4"
      }
    },
    {
      "cell_type": "markdown",
      "source": [
        "**3. Proposed Methodology/Models**"
      ],
      "metadata": {
        "id": "TZhkWN1Toiu6"
      }
    },
    {
      "cell_type": "markdown",
      "source": [
        "Because logistic regression is simple to understand and appropriate for medical predictive analysis, it is the approach that is employed. The procedure entails:\n",
        "\n",
        "\n",
        "\n",
        ". Encoding category variables, resolving missing values, and normalizing\n",
        "numerical variables are all examples of data preprocessing.\n",
        "\n",
        ". Feature selection is the process of choosing the best predictive characteristics using statistical techniques such as significance testing and correlation analysis along with domain expertise.\n",
        "\n",
        ". Training a logistic regression model, adjusting hyperparameters such as regularization parameters, and cross-validation techniques are all part of model development.\n",
        "\n",
        ". Performance Evaluation: Metrics like as F1-score, recall, accuracy, and precision are used to assess the model's performance.\n",
        "\n",
        "\n",
        "\n",
        "To ascertain the trade-off between accuracy and interpretability, the logistic regression model will be contrasted with a more sophisticated model."
      ],
      "metadata": {
        "id": "vqa7kjbUoo21"
      }
    },
    {
      "cell_type": "markdown",
      "source": [
        "**4. Experiment Setups**"
      ],
      "metadata": {
        "id": "Y1a6KXmRqYT9"
      }
    },
    {
      "cell_type": "markdown",
      "source": [
        ". Dataset: Using the publicly available Heart Disease dataset from Kaggle https://www.kaggle.com/datasets/redwankarimsony/heart-disease-data\n",
        "\n",
        ". Environment: Python, Jupyter Notebook, libraries including pandas, numpy, scikit-learn, matplotlib, and seaborn.\n",
        "\n",
        ". Train Test Split: Dataset will be divided into 80% training data and 20% testing data.\n",
        "\n",
        ". Validation Method: Applying 5 fold cross validation to ensure model robustness.\n",
        "\n",
        ". Comparison Model: Implementing a Random Forest classifier as a comparison to logistic regression.\n",
        "\n",
        ". Code Management: Utilizing GitHub to manage and version control the project codebase."
      ],
      "metadata": {
        "id": "5frLW9RBqtR1"
      }
    },
    {
      "cell_type": "markdown",
      "source": [
        "**5. Expected Results**"
      ],
      "metadata": {
        "id": "0mHjjsjprKOE"
      }
    },
    {
      "cell_type": "markdown",
      "source": [
        "In addition to producing a succinct explanation of the clinical factors that significantly influence the risk of heart disease, the logistic regression equation is anticipated to achieve a moderate to high rate of prediction success. Specifically:\n",
        "\n",
        ". Based on comparable studies, an accuracy of around 75% to 85% is anticipated.\n",
        "\n",
        ". Given the significance of reducing false negatives in medicine, precision and recall levels ought to represent balanced performance.\n",
        "\n",
        ". It is anticipated that Random Forest will offer somewhat better accuracy at the expense of less interpretability.\n",
        "\n",
        "Confusion matrices and ROC curves unique to the Random Forest and logistic regression models will be included in the visual representations. In conclusion, although if logistic regression's accuracy is marginally lower than that of more sophisticated models, its interpretability makes it still suitable for use in clinical settings."
      ],
      "metadata": {
        "id": "JoCdq1POrMQO"
      }
    }
  ]
}