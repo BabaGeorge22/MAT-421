{
  "nbformat": 4,
  "nbformat_minor": 0,
  "metadata": {
    "colab": {
      "provenance": [],
      "authorship_tag": "ABX9TyPKGl9rIvHArScppzC7UafJ",
      "include_colab_link": true
    },
    "kernelspec": {
      "name": "python3",
      "display_name": "Python 3"
    },
    "language_info": {
      "name": "python"
    }
  },
  "cells": [
    {
      "cell_type": "markdown",
      "metadata": {
        "id": "view-in-github",
        "colab_type": "text"
      },
      "source": [
        "<a href=\"https://colab.research.google.com/github/BabaGeorge22/MAT-421/blob/main/HWG1.ipynb\" target=\"_parent\"><img src=\"https://colab.research.google.com/assets/colab-badge.svg\" alt=\"Open In Colab\"/></a>"
      ]
    },
    {
      "cell_type": "markdown",
      "source": [
        "**Module G Homework - George Tome**"
      ],
      "metadata": {
        "id": "gAkMsqYCLWNO"
      }
    },
    {
      "cell_type": "markdown",
      "source": [
        "Sections 21.1 - 21.3"
      ],
      "metadata": {
        "id": "9OSpLkgALex_"
      }
    },
    {
      "cell_type": "markdown",
      "source": [
        "**Section 21.1 - Numerical Integration Problem Statement**"
      ],
      "metadata": {
        "id": "HbH9tqXrLjZJ"
      }
    },
    {
      "cell_type": "markdown",
      "source": [
        "We want to approximate ∫ (a/b) f(x)dx where the function f might only be known at discrete grid points x0, x1, ...xn.\n",
        "\n",
        "\n",
        "The spacing is h= (b-a) / n.\n",
        "\n",
        "\n",
        "Each subinterval [xi, xi+1] contributes some area.\n"
      ],
      "metadata": {
        "id": "iVbXRjQiLqdy"
      }
    },
    {
      "cell_type": "markdown",
      "source": [
        "**Section 21.2 - Riemann's Integral**"
      ],
      "metadata": {
        "id": "yJIB3CQZM9i3"
      }
    },
    {
      "cell_type": "markdown",
      "source": [
        "Riemann Sum: Approximate integral by rectangles of width h and height from either left endpoints or right endpoints.\n",
        "\n",
        "Midpoint Rule: Uses the midpoint of each subinterval."
      ],
      "metadata": {
        "id": "wNx-rcTgNB55"
      }
    },
    {
      "cell_type": "code",
      "source": [
        "import numpy as np\n",
        "\n",
        "# Integrate sin(x) from 0 to pi\n",
        "a, b = 0, np.pi\n",
        "n = 11\n",
        "h = (b - a)/(n - 1)\n",
        "x = np.linspace(a, b, n)\n",
        "f_vals = np.sin(x)  # function values at grid points\n",
        "\n",
        "# Left Riemann sum\n",
        "I_left = h * np.sum(f_vals[:-1])\n",
        "error_left = 2.0 - I_left  # exact integral of sin(x) from 0 to pi is 2\n",
        "\n",
        "# Right Riemann sum\n",
        "I_right = h * np.sum(f_vals[1:])\n",
        "error_right = 2.0 - I_right\n",
        "\n",
        "# Midpoint Rule\n",
        "mid_points = (x[:-1] + x[1:]) / 2\n",
        "f_mids = np.sin(mid_points)\n",
        "I_mid = h * np.sum(f_mids)\n",
        "error_mid = 2.0 - I_mid\n",
        "\n",
        "print(\"Left Riemann:\", I_left, \"Error:\", error_left)\n",
        "print(\"Right Riemann:\", I_right, \"Error:\", error_right)\n",
        "print(\"Midpoint Rule:\", I_mid, \"Error:\", error_mid)"
      ],
      "metadata": {
        "colab": {
          "base_uri": "https://localhost:8080/"
        },
        "id": "xrDihBBnNa9T",
        "outputId": "7510295a-621c-47a6-e094-c811d3c828f6"
      },
      "execution_count": 1,
      "outputs": [
        {
          "output_type": "stream",
          "name": "stdout",
          "text": [
            "Left Riemann: 1.9835235375094546 Error: 0.01647646249054535\n",
            "Right Riemann: 1.9835235375094546 Error: 0.01647646249054535\n",
            "Midpoint Rule: 2.008248407907974 Error: -0.008248407907974098\n"
          ]
        }
      ]
    },
    {
      "cell_type": "markdown",
      "source": [
        "Sample sin(x) at n points from 0 to π.\n",
        "\n",
        "\n",
        "Form left, right, and midpoint sums.\n",
        "\n",
        "Compare the results to the exact integral = 2."
      ],
      "metadata": {
        "id": "fePJeN0TNxsZ"
      }
    },
    {
      "cell_type": "markdown",
      "source": [
        "**Section 21.3 - Trapezoid Rule**"
      ],
      "metadata": {
        "id": "HbYgoDrPOGDI"
      }
    },
    {
      "cell_type": "markdown",
      "source": [
        "Trapezoid Rule: Approximate area by trapezoids in each subinterval."
      ],
      "metadata": {
        "id": "FtaxbTxROLUT"
      }
    },
    {
      "cell_type": "code",
      "source": [
        "import numpy as np\n",
        "\n",
        "# Integrate sin(x) from 0 to pi again\n",
        "a, b = 0, np.pi\n",
        "n = 11\n",
        "h = (b - a)/(n - 1)\n",
        "x = np.linspace(a, b, n)\n",
        "f_vals = np.sin(x)\n",
        "\n",
        "# Trapezoid Rule\n",
        "I_trap = (h/2)*(f_vals[0] + 2*np.sum(f_vals[1:-1]) + f_vals[-1])\n",
        "error_trap = 2.0 - I_trap\n",
        "\n",
        "print(\"Trapezoid Rule:\", I_trap, \"Error:\", error_trap)"
      ],
      "metadata": {
        "colab": {
          "base_uri": "https://localhost:8080/"
        },
        "id": "kvYdkyuhONn0",
        "outputId": "144cd3f3-cfd5-4d55-e222-d632f7f13a83"
      },
      "execution_count": 2,
      "outputs": [
        {
          "output_type": "stream",
          "name": "stdout",
          "text": [
            "Trapezoid Rule: 1.9835235375094546 Error: 0.01647646249054535\n"
          ]
        }
      ]
    },
    {
      "cell_type": "markdown",
      "source": [
        "Apply the formula that combines end points once and interior points twice.\n",
        "\n",
        "Compare to the true value = 2."
      ],
      "metadata": {
        "id": "TToMT-nvOTh2"
      }
    }
  ]
}