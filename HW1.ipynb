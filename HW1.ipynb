{
  "nbformat": 4,
  "nbformat_minor": 0,
  "metadata": {
    "colab": {
      "provenance": [],
      "authorship_tag": "ABX9TyN7O8gfqbqWPOYu5ppPxqJo",
      "include_colab_link": true
    },
    "kernelspec": {
      "name": "python3",
      "display_name": "Python 3"
    },
    "language_info": {
      "name": "python"
    }
  },
  "cells": [
    {
      "cell_type": "markdown",
      "metadata": {
        "id": "view-in-github",
        "colab_type": "text"
      },
      "source": [
        "<a href=\"https://colab.research.google.com/github/BabaGeorge22/MAT-421/blob/main/HW1.ipynb\" target=\"_parent\"><img src=\"https://colab.research.google.com/assets/colab-badge.svg\" alt=\"Open In Colab\"/></a>"
      ]
    },
    {
      "cell_type": "markdown",
      "source": [
        "HW1 - George Tome"
      ],
      "metadata": {
        "id": "YaFTE_rg5v_c"
      }
    },
    {
      "cell_type": "markdown",
      "source": [
        "9.1 Base-N and Binary"
      ],
      "metadata": {
        "id": "-MIST0cQ56w7"
      }
    },
    {
      "cell_type": "markdown",
      "source": [
        "In base-10 (decimal), numbers are represented by the digits 0 through 9. Each digit corresponds to a power of 10. However, numbers can be represented in any base. For instance, base-2 (binary) only uses the digits 0 and 1. This is useful for computers, which ultimately deal with two voltage states (on/off). We can convert from decimal to binary and perform arithmetic operations directly in binary as well."
      ],
      "metadata": {
        "id": "j_hc3I5H-J4N"
      }
    },
    {
      "cell_type": "code",
      "source": [
        "# Convert 37 (base 10) into binary by a custom function\n",
        "def decimal_to_binary(n):\n",
        "    \"\"\"Convert a non-negative integer n to its binary representation (string).\"\"\"\n",
        "    if n == 0:\n",
        "        return \"0\"\n",
        "    bits = []\n",
        "    while n > 0:\n",
        "        bits.append(str(n % 2))\n",
        "        n //= 2\n",
        "    return \"\".join(reversed(bits))\n",
        "\n",
        "decimal_num = 37\n",
        "binary_str = decimal_to_binary(decimal_num)\n",
        "print(f\"{decimal_num} (base 10) = {binary_str} (base 2)\")"
      ],
      "metadata": {
        "colab": {
          "base_uri": "https://localhost:8080/"
        },
        "id": "-RcZ6OAc-Q7P",
        "outputId": "4647d44c-75fa-4bb8-a40b-0f9c59133be6"
      },
      "execution_count": 4,
      "outputs": [
        {
          "output_type": "stream",
          "name": "stdout",
          "text": [
            "37 (base 10) = 100101 (base 2)\n"
          ]
        }
      ]
    },
    {
      "cell_type": "markdown",
      "source": [
        "37 (base 10) = 1 x (2^5) + 0 x (2^4) + 0 x (2^3) + 1 x (2^2) + 0 x (2^1) + 0 x (2^0) = 100101 (base 2)."
      ],
      "metadata": {
        "id": "MFLosfc--p2i"
      }
    },
    {
      "cell_type": "code",
      "source": [
        "# Add 37 and 17, then multiply them, showing both decimal and binary results\n",
        "a = 37\n",
        "b = 17\n",
        "\n",
        "sum_dec = a + b\n",
        "prod_dec = a * b\n",
        "\n",
        "# Use our decimal_to_binary function\n",
        "bin_a = decimal_to_binary(a)\n",
        "bin_b = decimal_to_binary(b)\n",
        "bin_sum = decimal_to_binary(sum_dec)\n",
        "bin_prod = decimal_to_binary(prod_dec)\n",
        "\n",
        "print(f\"{a} + {b} = {sum_dec} (decimal)\")\n",
        "print(f\"{bin_a} + {bin_b} = {bin_sum} (binary)\")\n",
        "\n",
        "print(\"\\n----------------------------\\n\")\n",
        "\n",
        "print(f\"{a} * {b} = {prod_dec} (decimal)\")\n",
        "print(f\"{bin_a} * {bin_b} = {bin_prod} (binary)\")"
      ],
      "metadata": {
        "colab": {
          "base_uri": "https://localhost:8080/"
        },
        "id": "BBnOMuJy_aH2",
        "outputId": "a8d0419d-6490-402b-c3fa-8580a4be442e"
      },
      "execution_count": 5,
      "outputs": [
        {
          "output_type": "stream",
          "name": "stdout",
          "text": [
            "37 + 17 = 54 (decimal)\n",
            "100101 + 10001 = 110110 (binary)\n",
            "\n",
            "----------------------------\n",
            "\n",
            "37 * 17 = 629 (decimal)\n",
            "100101 * 10001 = 1001110101 (binary)\n"
          ]
        }
      ]
    },
    {
      "cell_type": "markdown",
      "source": [
        "37+17=54\n",
        "\n",
        "In binary: 100101 + 10001 = 110110, which is 1 × (2^5) + 1 × (2^4) + 0 × (2^3) + 1 × (2^2) + 1 × (2^1) + 0 × (2^0) = 54\n",
        "\n",
        "Multiplying in binary is analogous to decimal multiplication, just using bits."
      ],
      "metadata": {
        "id": "JNf2keW8_l7K"
      }
    },
    {
      "cell_type": "markdown",
      "source": [
        "9.2 Floating Point Numbers"
      ],
      "metadata": {
        "id": "oIffWvTSAT3W"
      }
    },
    {
      "cell_type": "markdown",
      "source": [
        "Floating Point representation allocates a fixed number of bits to represent very large or very small numbers by splitting those bits into:\n",
        "\n",
        "Sign (positive or negative),\n",
        "\n",
        "Exponent (a power of 2),\n",
        "\n",
        "Fraction (the digits that give the precision)."
      ],
      "metadata": {
        "id": "G8VFVVwoAV9B"
      }
    },
    {
      "cell_type": "code",
      "source": [
        "import sys\n",
        "\n",
        "# Get info about the platform's float\n",
        "print(sys.float_info)"
      ],
      "metadata": {
        "colab": {
          "base_uri": "https://localhost:8080/"
        },
        "id": "ILSPZl8FAwVw",
        "outputId": "85036476-d218-4f97-d66c-8e276015b8b2"
      },
      "execution_count": 6,
      "outputs": [
        {
          "output_type": "stream",
          "name": "stdout",
          "text": [
            "sys.float_info(max=1.7976931348623157e+308, max_exp=1024, max_10_exp=308, min=2.2250738585072014e-308, min_exp=-1021, min_10_exp=-307, dig=15, mant_dig=53, epsilon=2.220446049250313e-16, radix=2, rounds=1)\n"
          ]
        }
      ]
    },
    {
      "cell_type": "markdown",
      "source": [
        "max is the largest representable floating-point number\n",
        "\n",
        "min is the smallest positive normalized float"
      ],
      "metadata": {
        "id": "HsDCWzs0Azsl"
      }
    },
    {
      "cell_type": "code",
      "source": [
        "import sys\n",
        "\n",
        "largest = sys.float_info.max\n",
        "print(\"Largest float:\", largest)\n",
        "\n",
        "# Adding 1 to the largest float won't change it\n",
        "overflow_test = largest + 2\n",
        "print(\"largest + 2 =\", overflow_test)\n",
        "print(\"Is largest + 2 == largest?\", overflow_test == largest)\n",
        "\n",
        "# Doubling the largest float leads to 'inf'\n",
        "double_largest = largest + largest\n",
        "print(\"largest + largest =\", double_largest)\n",
        "\n",
        "# Underflow: 2^-1075 -> 0.0\n",
        "tiny_number = 2**(-1075)\n",
        "print(\"2^-1075 =\", tiny_number)\n",
        "print(\"Is 2^-1075 == 0.0?\", tiny_number == 0.0)"
      ],
      "metadata": {
        "colab": {
          "base_uri": "https://localhost:8080/"
        },
        "id": "7PZxZau5A-Bw",
        "outputId": "a9e1c4c3-d2c1-4771-b304-7376146131c6"
      },
      "execution_count": 7,
      "outputs": [
        {
          "output_type": "stream",
          "name": "stdout",
          "text": [
            "Largest float: 1.7976931348623157e+308\n",
            "largest + 2 = 1.7976931348623157e+308\n",
            "Is largest + 2 == largest? True\n",
            "largest + largest = inf\n",
            "2^-1075 = 0.0\n",
            "Is 2^-1075 == 0.0? True\n"
          ]
        }
      ]
    },
    {
      "cell_type": "markdown",
      "source": [
        "9.3 Round-off Errors"
      ],
      "metadata": {
        "id": "_v6iDpiQBOIs"
      }
    },
    {
      "cell_type": "markdown",
      "source": [
        "Since floating point numbers are stored with a finite number of bits, many decimal fractions cannot be represented exactly. This leads to round-off errors where arithmetic results deviate slightly from the true value."
      ],
      "metadata": {
        "id": "LJDSXkc1BPVx"
      }
    },
    {
      "cell_type": "code",
      "source": [
        "print(\"0.1 + 0.2 + 0.3 =\", 0.1 + 0.2 + 0.3)\n",
        "print(\"Is 0.1 + 0.2 + 0.3 == 0.6?\", (0.1 + 0.2 + 0.3) == 0.6)"
      ],
      "metadata": {
        "colab": {
          "base_uri": "https://localhost:8080/"
        },
        "id": "Xv5XxAysBYAN",
        "outputId": "5795b88e-483a-4ba4-f222-3736313cd8bd"
      },
      "execution_count": 8,
      "outputs": [
        {
          "output_type": "stream",
          "name": "stdout",
          "text": [
            "0.1 + 0.2 + 0.3 = 0.6000000000000001\n",
            "Is 0.1 + 0.2 + 0.3 == 0.6? False\n"
          ]
        }
      ]
    },
    {
      "cell_type": "code",
      "source": [
        "res_sum = 0.1 + 0.2 + 0.3\n",
        "print(\"Result =\", res_sum)\n",
        "print(\"Rounded result:\", round(res_sum, 5))\n",
        "print(\"Rounded 0.6:\", round(0.6, 5))\n",
        "print(\"Compare with rounding:\", round(res_sum, 5) == round(0.6, 5))"
      ],
      "metadata": {
        "colab": {
          "base_uri": "https://localhost:8080/"
        },
        "id": "F6rFH-awBeBq",
        "outputId": "ea666aa3-4c9c-4117-92c2-ff83d1edf0ef"
      },
      "execution_count": 9,
      "outputs": [
        {
          "output_type": "stream",
          "name": "stdout",
          "text": [
            "Result = 0.6000000000000001\n",
            "Rounded result: 0.6\n",
            "Rounded 0.6: 0.6\n",
            "Compare with rounding: True\n"
          ]
        }
      ]
    },
    {
      "cell_type": "markdown",
      "source": [
        "Floating point arithmetic can yield small errors.\n",
        "\n",
        "\n",
        "Using round helps compare approximate results."
      ],
      "metadata": {
        "id": "X_irNvDzBjKg"
      }
    },
    {
      "cell_type": "code",
      "source": [
        "def add_and_subtract(iterations):\n",
        "    result = 1.0\n",
        "    for _ in range(iterations):\n",
        "        result += 1/3\n",
        "    for _ in range(iterations):\n",
        "        result -= 1/3\n",
        "    return result\n",
        "\n",
        "# Show how the error grows\n",
        "for i in [10, 100, 1000, 10000]:\n",
        "    print(f\"Iterations = {i}, final result = {add_and_subtract(i)}\")"
      ],
      "metadata": {
        "colab": {
          "base_uri": "https://localhost:8080/"
        },
        "id": "qtJKoWmcBoCs",
        "outputId": "971aacf8-2f12-4e44-cdc8-1e8d4c542288"
      },
      "execution_count": 10,
      "outputs": [
        {
          "output_type": "stream",
          "name": "stdout",
          "text": [
            "Iterations = 10, final result = 0.9999999999999991\n",
            "Iterations = 100, final result = 1.0000000000000002\n",
            "Iterations = 1000, final result = 1.0000000000000064\n",
            "Iterations = 10000, final result = 1.0000000000001166\n"
          ]
        }
      ]
    }
  ]
}